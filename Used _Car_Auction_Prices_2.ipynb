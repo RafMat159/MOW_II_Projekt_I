{
 "cells": [
  {
   "cell_type": "markdown",
   "id": "08177b77",
   "metadata": {},
   "source": [
    "## Druga część projektu"
   ]
  },
  {
   "cell_type": "code",
   "execution_count": null,
   "id": "2c672bde",
   "metadata": {},
   "outputs": [],
   "source": [
    "import pandas as pd\n",
    "import numpy as np\n",
    "import matplotlib.pyplot as plt"
   ]
  },
  {
   "cell_type": "markdown",
   "id": "76daa315",
   "metadata": {},
   "source": [
    "### wczytanie wszystkich zbiorow danych"
   ]
  },
  {
   "cell_type": "code",
   "execution_count": null,
   "id": "712f4967",
   "metadata": {},
   "outputs": [],
   "source": []
  },
  {
   "cell_type": "markdown",
   "id": "a8d38670",
   "metadata": {},
   "source": [
    "### podział na zbiór testowy i treningowy"
   ]
  },
  {
   "cell_type": "code",
   "execution_count": null,
   "id": "0410c579",
   "metadata": {},
   "outputs": [],
   "source": []
  },
  {
   "cell_type": "markdown",
   "id": "9423668b",
   "metadata": {},
   "source": [
    "### prosty model regresji nr 1"
   ]
  },
  {
   "cell_type": "code",
   "execution_count": null,
   "id": "3873f491",
   "metadata": {},
   "outputs": [],
   "source": []
  },
  {
   "cell_type": "markdown",
   "id": "0b8491a7",
   "metadata": {},
   "source": [
    "### prosty model regresji nr 2 "
   ]
  }
 ],
 "metadata": {
  "kernelspec": {
   "display_name": "Python 3 (ipykernel)",
   "language": "python",
   "name": "python3"
  },
  "language_info": {
   "codemirror_mode": {
    "name": "ipython",
    "version": 3
   },
   "file_extension": ".py",
   "mimetype": "text/x-python",
   "name": "python",
   "nbconvert_exporter": "python",
   "pygments_lexer": "ipython3",
   "version": "3.9.12"
  }
 },
 "nbformat": 4,
 "nbformat_minor": 5
}
