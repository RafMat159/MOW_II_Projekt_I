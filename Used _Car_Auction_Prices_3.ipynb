{
 "cells": [
  {
   "cell_type": "markdown",
   "id": "f377b246",
   "metadata": {},
   "source": [
    "# Optymalizacja hiperparamterów"
   ]
  },
  {
   "cell_type": "code",
   "execution_count": 1,
   "id": "0360a99b",
   "metadata": {},
   "outputs": [],
   "source": [
    "import pandas as pd\n",
    "from sklearn.ensemble import HistGradientBoostingRegressor\n",
    "from sklearn.model_selection import train_test_split, RandomizedSearchCV, GridSearchCV\n",
    "from sklearn.metrics import mean_squared_error\n",
    "import numpy as np\n",
    "import optuna\n",
    "from sklearn.ensemble import HistGradientBoostingRegressor\n",
    "from sklearn.model_selection import cross_val_score\n",
    "import random\n",
    "from sklearn.metrics import r2_score"
   ]
  },
  {
   "cell_type": "markdown",
   "id": "67a58622",
   "metadata": {},
   "source": [
    "### sztuczne pogorszenie wyników modelu bazowego poprzez usunięcie mocno skorelowanych cech\n",
    "\n",
    "Z wszystkimi cechami R^2 było na poziomie 0.96, dopiero po usunięciu 6 cech spadło do 0.86."
   ]
  },
  {
   "cell_type": "code",
   "execution_count": 2,
   "id": "2fb6b22b",
   "metadata": {},
   "outputs": [],
   "source": [
    "data = pd.read_csv('mean_min_max.csv')\n",
    "\n",
    "X = data.drop(columns=['sellingprice', 'car_age', 'odometer', 'sale_year', 'condition', 'mmr', 'sale_month'])\n",
    "y = data['sellingprice']"
   ]
  },
  {
   "cell_type": "code",
   "execution_count": 3,
   "id": "0729ef2b",
   "metadata": {},
   "outputs": [
    {
     "name": "stdout",
     "output_type": "stream",
     "text": [
      "Rozmiar zbioru treningowego: (307333, 14)\n",
      "Rozmiar zbioru walidacyjnego: (102445, 14)\n",
      "Rozmiar zbioru testowego: (102445, 14)\n"
     ]
    }
   ],
   "source": [
    "X_train, X_temp, y_train, y_temp = train_test_split(X, y, test_size=0.4, random_state=42)\n",
    "X_val, X_test, y_val, y_test = train_test_split(X_temp, y_temp, test_size=0.5, random_state=42)\n",
    "\n",
    "print(f\"Rozmiar zbioru treningowego: {X_train.shape}\")\n",
    "print(f\"Rozmiar zbioru walidacyjnego: {X_val.shape}\")\n",
    "print(f\"Rozmiar zbioru testowego: {X_test.shape}\")"
   ]
  },
  {
   "cell_type": "code",
   "execution_count": 4,
   "id": "5de18fcf",
   "metadata": {},
   "outputs": [
    {
     "name": "stdout",
     "output_type": "stream",
     "text": [
      "=== Model Bazowy ===\n",
      "Mean Squared Error (Testowy): 0.0070\n",
      "R² (Testowy): 0.8572\n",
      "\n"
     ]
    }
   ],
   "source": [
    "base_model = HistGradientBoostingRegressor(random_state=42)\n",
    "base_model.fit(X_train, y_train)\n",
    "\n",
    "y_test_pred_base = base_model.predict(X_test)\n",
    "mse_base = mean_squared_error(y_test, y_test_pred_base)\n",
    "r2_base = r2_score(y_test, y_test_pred_base)\n",
    "\n",
    "print(\"=== Model Bazowy ===\")\n",
    "print(f\"Mean Squared Error (Testowy): {mse_base:.4f}\")\n",
    "print(f\"R² (Testowy): {r2_base:.4f}\\n\")"
   ]
  },
  {
   "cell_type": "markdown",
   "id": "7dd34f09",
   "metadata": {},
   "source": [
    "## GridSearchCV"
   ]
  },
  {
   "cell_type": "code",
   "execution_count": 5,
   "id": "d45992ef",
   "metadata": {},
   "outputs": [
    {
     "name": "stdout",
     "output_type": "stream",
     "text": [
      "Fitting 5 folds for each of 243 candidates, totalling 1215 fits\n",
      "GridSearchCV Najlepsze parametry: {'l2_regularization': 0.0, 'learning_rate': 0.2, 'max_depth': None, 'max_iter': 300, 'min_samples_leaf': 20}\n"
     ]
    }
   ],
   "source": [
    "model = HistGradientBoostingRegressor(random_state=42)\n",
    "\n",
    "param_grid = {\n",
    "    'learning_rate': [0.01, 0.1, 0.2],\n",
    "    'max_iter': [100, 200, 300],\n",
    "    'max_depth': [None, 3, 5],\n",
    "    'min_samples_leaf': [20, 30, 50],\n",
    "    'l2_regularization': [0.0, 1.0, 10.0],\n",
    "}\n",
    "\n",
    "grid_search = GridSearchCV(\n",
    "    model, param_grid, cv=5, scoring='neg_mean_squared_error', n_jobs=-1, verbose=1\n",
    ")\n",
    "grid_search.fit(X_train, y_train)\n",
    "\n",
    "print(\"GridSearchCV Najlepsze parametry:\", grid_search.best_params_)"
   ]
  },
  {
   "cell_type": "markdown",
   "id": "e107784a",
   "metadata": {},
   "source": [
    "## RandomSearchCV"
   ]
  },
  {
   "cell_type": "code",
   "execution_count": 6,
   "id": "5260d144",
   "metadata": {},
   "outputs": [
    {
     "name": "stdout",
     "output_type": "stream",
     "text": [
      "Fitting 5 folds for each of 20 candidates, totalling 100 fits\n",
      "RandomizedSearchCV Najlepsze parametry: {'min_samples_leaf': 50, 'max_iter': 300, 'max_depth': None, 'learning_rate': 0.2, 'l2_regularization': 0.0}\n"
     ]
    }
   ],
   "source": [
    "random_search = RandomizedSearchCV(\n",
    "    model, param_distributions=param_grid, n_iter=20, cv=5, scoring='neg_mean_squared_error', n_jobs=-1, verbose=1\n",
    ")\n",
    "random_search.fit(X_train, y_train)\n",
    "\n",
    "print(\"RandomizedSearchCV Najlepsze parametry:\", random_search.best_params_)"
   ]
  },
  {
   "cell_type": "code",
   "execution_count": 7,
   "id": "f0755c78",
   "metadata": {},
   "outputs": [
    {
     "name": "stdout",
     "output_type": "stream",
     "text": [
      "GridSearchCV Mean Squared Error na zbiorze walidacyjnym: 0.004641173589074727\n",
      "RandomizedSearchCV Mean Squared Error na zbiorze walidacyjnym: 0.0046466008004473125\n"
     ]
    }
   ],
   "source": [
    "grid_best_model = grid_search.best_estimator_\n",
    "random_best_model = random_search.best_estimator_\n",
    "\n",
    "for name, model in [(\"GridSearchCV\", grid_best_model), (\"RandomizedSearchCV\", random_best_model)]:\n",
    "    y_val_pred = model.predict(X_val)\n",
    "    mse = mean_squared_error(y_val, y_val_pred)\n",
    "    print(f\"{name} Mean Squared Error na zbiorze walidacyjnym:\", mse)"
   ]
  },
  {
   "cell_type": "markdown",
   "id": "31e1a3c3",
   "metadata": {},
   "source": [
    "## Optuna"
   ]
  },
  {
   "cell_type": "code",
   "execution_count": 8,
   "id": "c639f028",
   "metadata": {},
   "outputs": [
    {
     "name": "stderr",
     "output_type": "stream",
     "text": [
      "[I 2024-12-19 20:54:01,906] A new study created in memory with name: no-name-7a2e6100-1b06-44ec-8445-063048da0a3b\n",
      "[I 2024-12-19 20:54:47,789] Trial 0 finished with value: 0.008118560870203444 and parameters: {'learning_rate': 0.11391289828319251, 'max_iter': 411, 'max_depth': 3, 'min_samples_leaf': 41, 'l2_regularization': 2.099510944204836}. Best is trial 0 with value: 0.008118560870203444.\n",
      "[I 2024-12-19 20:55:27,641] Trial 1 finished with value: 0.005700753329242929 and parameters: {'learning_rate': 0.13163906624379165, 'max_iter': 286, 'max_depth': 5, 'min_samples_leaf': 25, 'l2_regularization': 6.855954268434842}. Best is trial 1 with value: 0.005700753329242929.\n",
      "[I 2024-12-19 20:56:33,345] Trial 2 finished with value: 0.007079048114057289 and parameters: {'learning_rate': 0.028432253552642173, 'max_iter': 428, 'max_depth': 7, 'min_samples_leaf': 34, 'l2_regularization': 4.601235396076859}. Best is trial 1 with value: 0.005700753329242929.\n",
      "[I 2024-12-19 20:57:06,030] Trial 3 finished with value: 0.00794059728746843 and parameters: {'learning_rate': 0.17021250873748867, 'max_iter': 293, 'max_depth': 3, 'min_samples_leaf': 28, 'l2_regularization': 7.352067061385718}. Best is trial 1 with value: 0.005700753329242929.\n",
      "[I 2024-12-19 20:57:44,406] Trial 4 finished with value: 0.004659503292427521 and parameters: {'learning_rate': 0.26933846911631715, 'max_iter': 273, 'max_depth': None, 'min_samples_leaf': 21, 'l2_regularization': 6.607784232076416}. Best is trial 4 with value: 0.004659503292427521.\n",
      "[I 2024-12-19 20:58:15,943] Trial 5 finished with value: 0.008589483082377771 and parameters: {'learning_rate': 0.04960785461015598, 'max_iter': 213, 'max_depth': 5, 'min_samples_leaf': 47, 'l2_regularization': 7.616661075496242}. Best is trial 4 with value: 0.004659503292427521.\n",
      "[I 2024-12-19 20:58:38,656] Trial 6 finished with value: 0.005934835092677842 and parameters: {'learning_rate': 0.22055189994943242, 'max_iter': 155, 'max_depth': 5, 'min_samples_leaf': 31, 'l2_regularization': 8.647385571848345}. Best is trial 4 with value: 0.004659503292427521.\n",
      "[I 2024-12-19 20:58:58,053] Trial 7 finished with value: 0.006215271422213887 and parameters: {'learning_rate': 0.22375887977571313, 'max_iter': 127, 'max_depth': 5, 'min_samples_leaf': 40, 'l2_regularization': 8.838282894826802}. Best is trial 4 with value: 0.004659503292427521.\n",
      "[I 2024-12-19 20:59:24,445] Trial 8 finished with value: 0.0058532428402521975 and parameters: {'learning_rate': 0.20294648546306354, 'max_iter': 177, 'max_depth': 5, 'min_samples_leaf': 49, 'l2_regularization': 6.259701566811332}. Best is trial 4 with value: 0.004659503292427521.\n",
      "[I 2024-12-19 20:59:57,474] Trial 9 finished with value: 0.006921026992364748 and parameters: {'learning_rate': 0.27270942100771844, 'max_iter': 305, 'max_depth': 3, 'min_samples_leaf': 26, 'l2_regularization': 0.4666016567448133}. Best is trial 4 with value: 0.004659503292427521.\n",
      "[I 2024-12-19 21:01:01,157] Trial 10 finished with value: 0.004354156303679262 and parameters: {'learning_rate': 0.2842963666008457, 'max_iter': 480, 'max_depth': None, 'min_samples_leaf': 21, 'l2_regularization': 4.212211749999748}. Best is trial 10 with value: 0.004354156303679262.\n",
      "[I 2024-12-19 21:02:06,014] Trial 11 finished with value: 0.004352735636318326 and parameters: {'learning_rate': 0.2726412395374805, 'max_iter': 490, 'max_depth': None, 'min_samples_leaf': 20, 'l2_regularization': 4.072063779842754}. Best is trial 11 with value: 0.004352735636318326.\n",
      "[I 2024-12-19 21:03:13,319] Trial 12 finished with value: 0.0043317076499916046 and parameters: {'learning_rate': 0.2930895840551921, 'max_iter': 487, 'max_depth': None, 'min_samples_leaf': 20, 'l2_regularization': 3.941533331112236}. Best is trial 12 with value: 0.0043317076499916046.\n",
      "[I 2024-12-19 21:04:18,387] Trial 13 finished with value: 0.004333245676647624 and parameters: {'learning_rate': 0.289317598342287, 'max_iter': 489, 'max_depth': None, 'min_samples_leaf': 21, 'l2_regularization': 2.7411950127024927}. Best is trial 12 with value: 0.0043317076499916046.\n",
      "[I 2024-12-19 21:05:10,091] Trial 14 finished with value: 0.0044473076484921785 and parameters: {'learning_rate': 0.2941893760481771, 'max_iter': 386, 'max_depth': None, 'min_samples_leaf': 25, 'l2_regularization': 2.6098081462163267}. Best is trial 12 with value: 0.0043317076499916046.\n",
      "[I 2024-12-19 21:05:59,226] Trial 15 finished with value: 0.004557162857473495 and parameters: {'learning_rate': 0.23763859206804216, 'max_iter': 355, 'max_depth': None, 'min_samples_leaf': 30, 'l2_regularization': 2.602658980746313}. Best is trial 12 with value: 0.0043317076499916046.\n",
      "[I 2024-12-19 21:07:00,707] Trial 16 finished with value: 0.004611128771970231 and parameters: {'learning_rate': 0.1768430781461549, 'max_iter': 454, 'max_depth': 7, 'min_samples_leaf': 38, 'l2_regularization': 0.7347778030343535}. Best is trial 12 with value: 0.0043317076499916046.\n",
      "[I 2024-12-19 21:07:52,848] Trial 17 finished with value: 0.005297413386338781 and parameters: {'learning_rate': 0.08540029822590146, 'max_iter': 354, 'max_depth': None, 'min_samples_leaf': 23, 'l2_regularization': 5.416400187014828}. Best is trial 12 with value: 0.0043317076499916046.\n",
      "[I 2024-12-19 21:08:59,027] Trial 18 finished with value: 0.004367941073879242 and parameters: {'learning_rate': 0.2434536403725547, 'max_iter': 496, 'max_depth': None, 'min_samples_leaf': 34, 'l2_regularization': 3.322910332473922}. Best is trial 12 with value: 0.0043317076499916046.\n",
      "[I 2024-12-19 21:09:58,929] Trial 19 finished with value: 0.004504946855967341 and parameters: {'learning_rate': 0.19384181035860143, 'max_iter': 443, 'max_depth': None, 'min_samples_leaf': 29, 'l2_regularization': 1.0203967397504625}. Best is trial 12 with value: 0.0043317076499916046.\n",
      "[I 2024-12-19 21:10:50,175] Trial 20 finished with value: 0.00453453997499254 and parameters: {'learning_rate': 0.24951151761009394, 'max_iter': 378, 'max_depth': 7, 'min_samples_leaf': 20, 'l2_regularization': 1.5485977453751958}. Best is trial 12 with value: 0.0043317076499916046.\n",
      "[I 2024-12-19 21:11:55,756] Trial 21 finished with value: 0.004334201072555792 and parameters: {'learning_rate': 0.2948557506417226, 'max_iter': 498, 'max_depth': None, 'min_samples_leaf': 20, 'l2_regularization': 3.568224306112184}. Best is trial 12 with value: 0.0043317076499916046.\n",
      "[I 2024-12-19 21:12:57,184] Trial 22 finished with value: 0.004356282486219998 and parameters: {'learning_rate': 0.2977290081887496, 'max_iter': 460, 'max_depth': None, 'min_samples_leaf': 23, 'l2_regularization': 3.3868215603046865}. Best is trial 12 with value: 0.0043317076499916046.\n",
      "[I 2024-12-19 21:14:03,227] Trial 23 finished with value: 0.00435139813526138 and parameters: {'learning_rate': 0.2570765455904582, 'max_iter': 499, 'max_depth': None, 'min_samples_leaf': 23, 'l2_regularization': 5.415424356136623}. Best is trial 12 with value: 0.0043317076499916046.\n",
      "[I 2024-12-19 21:14:57,514] Trial 24 finished with value: 0.004412519032787731 and parameters: {'learning_rate': 0.29642143450305974, 'max_iter': 408, 'max_depth': None, 'min_samples_leaf': 27, 'l2_regularization': 3.16749973030819}. Best is trial 12 with value: 0.0043317076499916046.\n",
      "[I 2024-12-19 21:15:58,544] Trial 25 finished with value: 0.004446396536303893 and parameters: {'learning_rate': 0.2171842683550208, 'max_iter': 455, 'max_depth': None, 'min_samples_leaf': 23, 'l2_regularization': 1.8451118196982765}. Best is trial 12 with value: 0.0043317076499916046.\n",
      "[I 2024-12-19 21:16:44,493] Trial 26 finished with value: 0.004531912997113449 and parameters: {'learning_rate': 0.25997560485008153, 'max_iter': 334, 'max_depth': None, 'min_samples_leaf': 20, 'l2_regularization': 0.006788963840772766}. Best is trial 12 with value: 0.0043317076499916046.\n",
      "[I 2024-12-19 21:17:43,855] Trial 27 finished with value: 0.004657058580484653 and parameters: {'learning_rate': 0.15139554287967857, 'max_iter': 420, 'max_depth': None, 'min_samples_leaf': 32, 'l2_regularization': 5.079463806533024}. Best is trial 12 with value: 0.0043317076499916046.\n",
      "[I 2024-12-19 21:18:11,668] Trial 28 finished with value: 0.007224492556791415 and parameters: {'learning_rate': 0.28302712154066223, 'max_iter': 251, 'max_depth': 3, 'min_samples_leaf': 24, 'l2_regularization': 3.842229202528928}. Best is trial 12 with value: 0.0043317076499916046.\n"
     ]
    },
    {
     "name": "stderr",
     "output_type": "stream",
     "text": [
      "[I 2024-12-19 21:19:09,622] Trial 29 finished with value: 0.0052294577304131135 and parameters: {'learning_rate': 0.09412118075352532, 'max_iter': 405, 'max_depth': 7, 'min_samples_leaf': 43, 'l2_regularization': 2.4988721580962068}. Best is trial 12 with value: 0.0043317076499916046.\n",
      "[I 2024-12-19 21:19:59,684] Trial 30 finished with value: 0.006478786123574135 and parameters: {'learning_rate': 0.23224015950551113, 'max_iter': 471, 'max_depth': 3, 'min_samples_leaf': 28, 'l2_regularization': 5.938684212638169}. Best is trial 12 with value: 0.0043317076499916046.\n",
      "[I 2024-12-19 21:21:05,861] Trial 31 finished with value: 0.004353202743395257 and parameters: {'learning_rate': 0.2541254739899914, 'max_iter': 499, 'max_depth': None, 'min_samples_leaf': 22, 'l2_regularization': 4.784592921871652}. Best is trial 12 with value: 0.0043317076499916046.\n",
      "[I 2024-12-19 21:22:04,349] Trial 32 finished with value: 0.004404395375158023 and parameters: {'learning_rate': 0.26420288899484473, 'max_iter': 438, 'max_depth': None, 'min_samples_leaf': 25, 'l2_regularization': 3.7293777543159283}. Best is trial 12 with value: 0.0043317076499916046.\n",
      "[I 2024-12-19 21:23:05,859] Trial 33 finished with value: 0.004350782875841797 and parameters: {'learning_rate': 0.29922189014412165, 'max_iter': 469, 'max_depth': None, 'min_samples_leaf': 22, 'l2_regularization': 5.854909747049659}. Best is trial 12 with value: 0.0043317076499916046.\n",
      "[I 2024-12-19 21:24:07,725] Trial 34 finished with value: 0.004348046460213484 and parameters: {'learning_rate': 0.29741424823977053, 'max_iter': 470, 'max_depth': None, 'min_samples_leaf': 26, 'l2_regularization': 9.760731509038196}. Best is trial 12 with value: 0.0043317076499916046.\n",
      "[I 2024-12-19 21:25:05,383] Trial 35 finished with value: 0.004403017399879944 and parameters: {'learning_rate': 0.28088991569927474, 'max_iter': 433, 'max_depth': None, 'min_samples_leaf': 26, 'l2_regularization': 9.472188012817284}. Best is trial 12 with value: 0.0043317076499916046.\n",
      "[I 2024-12-19 21:26:09,391] Trial 36 finished with value: 0.008489133996492822 and parameters: {'learning_rate': 0.016533606672546497, 'max_iter': 394, 'max_depth': None, 'min_samples_leaf': 21, 'l2_regularization': 4.479609825978317}. Best is trial 12 with value: 0.0043317076499916046.\n",
      "[I 2024-12-19 21:27:11,363] Trial 37 finished with value: 0.004405837358377735 and parameters: {'learning_rate': 0.2772295260864487, 'max_iter': 470, 'max_depth': 7, 'min_samples_leaf': 25, 'l2_regularization': 7.274376495325519}. Best is trial 12 with value: 0.0043317076499916046.\n",
      "[I 2024-12-19 21:28:06,977] Trial 38 finished with value: 0.004840655293395173 and parameters: {'learning_rate': 0.20328306321285186, 'max_iter': 416, 'max_depth': 5, 'min_samples_leaf': 36, 'l2_regularization': 2.908056910332685}. Best is trial 12 with value: 0.0043317076499916046.\n",
      "[I 2024-12-19 21:28:53,939] Trial 39 finished with value: 0.0075133587788574815 and parameters: {'learning_rate': 0.14029658083206042, 'max_iter': 435, 'max_depth': 3, 'min_samples_leaf': 27, 'l2_regularization': 2.0054489251539085}. Best is trial 12 with value: 0.0043317076499916046.\n",
      "[I 2024-12-19 21:30:04,152] Trial 40 finished with value: 0.005336953380404175 and parameters: {'learning_rate': 0.06119164570471386, 'max_iter': 478, 'max_depth': None, 'min_samples_leaf': 20, 'l2_regularization': 9.97288572389479}. Best is trial 12 with value: 0.0043317076499916046.\n",
      "[I 2024-12-19 21:31:06,469] Trial 41 finished with value: 0.004343302296044732 and parameters: {'learning_rate': 0.2982494159093412, 'max_iter': 468, 'max_depth': None, 'min_samples_leaf': 22, 'l2_regularization': 8.857882096395365}. Best is trial 12 with value: 0.0043317076499916046.\n",
      "[I 2024-12-19 21:32:06,794] Trial 42 finished with value: 0.0043777235272924936 and parameters: {'learning_rate': 0.287907912074477, 'max_iter': 450, 'max_depth': None, 'min_samples_leaf': 22, 'l2_regularization': 8.792282219935926}. Best is trial 12 with value: 0.0043317076499916046.\n",
      "[I 2024-12-19 21:33:11,372] Trial 43 finished with value: 0.004354764700681049 and parameters: {'learning_rate': 0.2678119971305799, 'max_iter': 478, 'max_depth': None, 'min_samples_leaf': 24, 'l2_regularization': 7.773742199743056}. Best is trial 12 with value: 0.0043317076499916046.\n",
      "[I 2024-12-19 21:33:42,574] Trial 44 finished with value: 0.005139270456865603 and parameters: {'learning_rate': 0.28242239663792906, 'max_iter': 225, 'max_depth': 5, 'min_samples_leaf': 21, 'l2_regularization': 9.50727665628316}. Best is trial 12 with value: 0.0043317076499916046.\n",
      "[I 2024-12-19 21:34:49,177] Trial 45 finished with value: 0.0043456423014779965 and parameters: {'learning_rate': 0.2701298124828093, 'max_iter': 499, 'max_depth': None, 'min_samples_leaf': 24, 'l2_regularization': 8.485698338324044}. Best is trial 12 with value: 0.0043317076499916046.\n",
      "[I 2024-12-19 21:35:55,061] Trial 46 finished with value: 0.004359949847244864 and parameters: {'learning_rate': 0.266010658578378, 'max_iter': 490, 'max_depth': None, 'min_samples_leaf': 32, 'l2_regularization': 8.050916338568367}. Best is trial 12 with value: 0.0043317076499916046.\n",
      "[I 2024-12-19 21:36:56,311] Trial 47 finished with value: 0.004424378675437145 and parameters: {'learning_rate': 0.2318637887076012, 'max_iter': 453, 'max_depth': None, 'min_samples_leaf': 20, 'l2_regularization': 9.135274542977811}. Best is trial 12 with value: 0.0043317076499916046.\n",
      "[I 2024-12-19 21:38:03,163] Trial 48 finished with value: 0.004617340877362961 and parameters: {'learning_rate': 0.24410903799737443, 'max_iter': 500, 'max_depth': 5, 'min_samples_leaf': 44, 'l2_regularization': 8.322840213718685}. Best is trial 12 with value: 0.0043317076499916046.\n",
      "[I 2024-12-19 21:38:21,150] Trial 49 finished with value: 0.0054108037049223345 and parameters: {'learning_rate': 0.27813067585649287, 'max_iter': 112, 'max_depth': None, 'min_samples_leaf': 24, 'l2_regularization': 7.13815921005776}. Best is trial 12 with value: 0.0043317076499916046.\n"
     ]
    },
    {
     "name": "stdout",
     "output_type": "stream",
     "text": [
      "Optuna Najlepsze parametry: {'learning_rate': 0.2930895840551921, 'max_iter': 487, 'max_depth': None, 'min_samples_leaf': 20, 'l2_regularization': 3.941533331112236}\n"
     ]
    }
   ],
   "source": [
    "def objective(trial):\n",
    "    params = {\n",
    "        'learning_rate': trial.suggest_float('learning_rate', 0.01, 0.3),\n",
    "        'max_iter': trial.suggest_int('max_iter', 100, 500),\n",
    "        'max_depth': trial.suggest_categorical('max_depth', [None, 3, 5, 7]),\n",
    "        'min_samples_leaf': trial.suggest_int('min_samples_leaf', 20, 50),\n",
    "        'l2_regularization': trial.suggest_float('l2_regularization', 1e-3, 10.0),\n",
    "    }\n",
    "    model = HistGradientBoostingRegressor(random_state=42, **params)\n",
    "    scores = cross_val_score(model, X_train, y_train, cv=5, scoring='neg_mean_squared_error')\n",
    "    return -scores.mean()\n",
    "\n",
    "study = optuna.create_study(direction='minimize')\n",
    "study.optimize(objective, n_trials=50)\n",
    "\n",
    "print(\"Optuna Najlepsze parametry:\", study.best_params)"
   ]
  },
  {
   "cell_type": "code",
   "execution_count": 9,
   "id": "01064cfb",
   "metadata": {},
   "outputs": [
    {
     "data": {
      "text/plain": [
       "HistGradientBoostingRegressor(l2_regularization=3.941533331112236,\n",
       "                              learning_rate=0.2930895840551921, max_iter=487,\n",
       "                              random_state=42)"
      ]
     },
     "execution_count": 9,
     "metadata": {},
     "output_type": "execute_result"
    }
   ],
   "source": [
    "best_params = study.best_params\n",
    "optuna_model = HistGradientBoostingRegressor(random_state=42, **best_params)\n",
    "optuna_model.fit(X_train, y_train)"
   ]
  },
  {
   "cell_type": "code",
   "execution_count": 10,
   "id": "790cc5d7",
   "metadata": {},
   "outputs": [
    {
     "name": "stdout",
     "output_type": "stream",
     "text": [
      "Optuna Mean Squared Error na zbiorze walidacyjnym: 0.004184684140353185\n"
     ]
    }
   ],
   "source": [
    "y_val_pred = optuna_model.predict(X_val)\n",
    "mse = mean_squared_error(y_val, y_val_pred)\n",
    "print(\"Optuna Mean Squared Error na zbiorze walidacyjnym:\", mse)"
   ]
  },
  {
   "cell_type": "markdown",
   "id": "5f5a9316",
   "metadata": {},
   "source": [
    "## Algorytm genetyczny"
   ]
  },
  {
   "cell_type": "code",
   "execution_count": 22,
   "id": "da9d2fca",
   "metadata": {},
   "outputs": [],
   "source": [
    "def evaluate(params):\n",
    "    learning_rate, max_iter, max_depth, min_samples_leaf, l2_regularization = params\n",
    "    model = HistGradientBoostingRegressor(\n",
    "        learning_rate=learning_rate,\n",
    "        max_iter=int(max_iter),\n",
    "        max_depth=None if max_depth < 1 else int(max_depth),\n",
    "        min_samples_leaf=int(min_samples_leaf),\n",
    "        l2_regularization=l2_regularization,\n",
    "        random_state=42\n",
    "    )\n",
    "    scores = cross_val_score(model, X_train, y_train, cv=5, scoring='neg_mean_squared_error').mean()\n",
    "    return -scores"
   ]
  },
  {
   "cell_type": "code",
   "execution_count": 23,
   "id": "74bfdf5e",
   "metadata": {},
   "outputs": [],
   "source": [
    "def initialize_population(size):\n",
    "    return [\n",
    "        [\n",
    "            random.uniform(0.01, 0.3),\n",
    "            random.randint(100, 500),\n",
    "            random.uniform(1, 7),\n",
    "            random.randint(20, 50), \n",
    "            random.uniform(1e-3, 10)\n",
    "        ]\n",
    "        for _ in range(size)\n",
    "    ]"
   ]
  },
  {
   "cell_type": "code",
   "execution_count": 24,
   "id": "281e8af5",
   "metadata": {},
   "outputs": [],
   "source": [
    "def crossover(parent1, parent2):\n",
    "    return [random.choice([p1, p2]) for p1, p2 in zip(parent1, parent2)]"
   ]
  },
  {
   "cell_type": "code",
   "execution_count": 25,
   "id": "5bb17767",
   "metadata": {},
   "outputs": [],
   "source": [
    "def mutate(individual, mutation_rate=0.1):\n",
    "    for i in range(len(individual)):\n",
    "        if random.random() < mutation_rate:\n",
    "            if i == 0: individual[i] = random.uniform(0.01, 0.3)\n",
    "            if i == 1: individual[i] = random.randint(100, 500)\n",
    "            if i == 2: individual[i] = random.uniform(1, 7)\n",
    "            if i == 3: individual[i] = random.randint(20, 50)\n",
    "            if i == 4: individual[i] = random.uniform(1e-3, 10)\n",
    "    return individual"
   ]
  },
  {
   "cell_type": "code",
   "execution_count": 26,
   "id": "fb4a35ee",
   "metadata": {},
   "outputs": [],
   "source": [
    "def genetic_algorithm(generations, population_size):\n",
    "    population = initialize_population(population_size)\n",
    "    for gen in range(generations):\n",
    "        scores = [(evaluate(ind), ind) for ind in population]\n",
    "        scores.sort()\n",
    "        best = scores[:population_size // 2]\n",
    "        \n",
    "        next_gen = [ind for _, ind in best]\n",
    "        while len(next_gen) < population_size:\n",
    "            parent1, parent2 = random.sample(next_gen, 2)\n",
    "            child = mutate(crossover(parent1, parent2))\n",
    "            next_gen.append(child)\n",
    "        population = next_gen\n",
    "    \n",
    "    return scores[0][1]"
   ]
  },
  {
   "cell_type": "code",
   "execution_count": 27,
   "id": "9c697a86",
   "metadata": {},
   "outputs": [],
   "source": [
    "best_params_ga = genetic_algorithm(20, 10)\n"
   ]
  },
  {
   "cell_type": "code",
   "execution_count": 28,
   "id": "5180a39f",
   "metadata": {},
   "outputs": [
    {
     "data": {
      "text/plain": [
       "HistGradientBoostingRegressor(l2_regularization=2.30621555056688,\n",
       "                              learning_rate=0.29080400772472587, max_depth=6,\n",
       "                              max_iter=497, min_samples_leaf=34,\n",
       "                              random_state=42)"
      ]
     },
     "execution_count": 28,
     "metadata": {},
     "output_type": "execute_result"
    }
   ],
   "source": [
    "ga_model = HistGradientBoostingRegressor(\n",
    "    learning_rate=best_params_ga[0],\n",
    "    max_iter=int(best_params_ga[1]),\n",
    "    max_depth=None if best_params_ga[2] < 1 else int(best_params_ga[2]),\n",
    "    min_samples_leaf=int(best_params_ga[3]),\n",
    "    l2_regularization=best_params_ga[4],\n",
    "    random_state=42\n",
    ")\n",
    "ga_model.fit(X_train, y_train)"
   ]
  },
  {
   "cell_type": "code",
   "execution_count": 29,
   "id": "2d9aef0b",
   "metadata": {},
   "outputs": [
    {
     "name": "stdout",
     "output_type": "stream",
     "text": [
      "Genetic Algorithm Mean Squared Error na zbiorze walidacyjnym: 0.004342958569084839\n"
     ]
    }
   ],
   "source": [
    "y_val_pred = ga_model.predict(X_val)\n",
    "mse = mean_squared_error(y_val, y_val_pred)\n",
    "print(\"Genetic Algorithm Mean Squared Error na zbiorze walidacyjnym:\", mse)"
   ]
  },
  {
   "cell_type": "markdown",
   "id": "db0ddbdf",
   "metadata": {},
   "source": [
    "## Podsumowanie"
   ]
  },
  {
   "cell_type": "code",
   "execution_count": 30,
   "id": "e382269d",
   "metadata": {},
   "outputs": [],
   "source": [
    "def evaluate_test_set(model, X_test, y_test):\n",
    "    y_test_pred = model.predict(X_test)\n",
    "    mse = mean_squared_error(y_test, y_test_pred)\n",
    "    r2 = r2_score(y_test, y_test_pred)\n",
    "    return mse, r2"
   ]
  },
  {
   "cell_type": "code",
   "execution_count": 32,
   "id": "d0b31bba",
   "metadata": {},
   "outputs": [
    {
     "name": "stdout",
     "output_type": "stream",
     "text": [
      "=== Podsumowanie Metod ===\n",
      "Model Bazowy - Mean Squared Error: 0.0070, R²: 0.8572\n",
      "\n",
      "GridSearchCV:\n",
      "  Mean Squared Error (Testowy): 0.0046\n",
      "  R² (Testowy): 0.9063\n",
      "  Najlepsze Hiperparametry: {'l2_regularization': 0.0, 'learning_rate': 0.2, 'max_depth': None, 'max_iter': 300, 'min_samples_leaf': 20}\n",
      "\n",
      "RandomizedSearchCV:\n",
      "  Mean Squared Error (Testowy): 0.0046\n",
      "  R² (Testowy): 0.9061\n",
      "  Najlepsze Hiperparametry: {'min_samples_leaf': 50, 'max_iter': 300, 'max_depth': None, 'learning_rate': 0.2, 'l2_regularization': 0.0}\n",
      "\n",
      "Optuna:\n",
      "  Mean Squared Error (Testowy): 0.0042\n",
      "  R² (Testowy): 0.9151\n",
      "  Najlepsze Hiperparametry: {'learning_rate': 0.2930895840551921, 'max_iter': 487, 'max_depth': None, 'min_samples_leaf': 20, 'l2_regularization': 3.941533331112236}\n",
      "\n",
      "Genetic Algorithm:\n",
      "  Mean Squared Error (Testowy): 0.0043\n",
      "  R² (Testowy): 0.9130\n",
      "  Najlepsze Hiperparametry: {'learning_rate': 0.29080400772472587, 'max_iter': 497, 'max_depth': 6, 'min_samples_leaf': 34, 'l2_regularization': 2.30621555056688}\n",
      "\n"
     ]
    }
   ],
   "source": [
    "results = {}\n",
    "\n",
    "for method, model, params in [\n",
    "    (\"GridSearchCV\", grid_best_model, grid_search.best_params_),\n",
    "    (\"RandomizedSearchCV\", random_best_model, random_search.best_params_),\n",
    "    (\"Optuna\", optuna_model, best_params),\n",
    "    (\"Genetic Algorithm\", ga_model, {\n",
    "        'learning_rate': best_params_ga[0],\n",
    "        'max_iter': int(best_params_ga[1]),\n",
    "        'max_depth': None if best_params_ga[2] < 0.5 else int(best_params_ga[2]),\n",
    "        'min_samples_leaf': int(best_params_ga[3]),\n",
    "        'l2_regularization': best_params_ga[4],\n",
    "    }),\n",
    "]:\n",
    "    mse, r2 = evaluate_test_set(model, X_test, y_test)\n",
    "    results[method] = {\n",
    "        \"MSE\": mse,\n",
    "        \"R2\": r2,\n",
    "        \"Params\": params,\n",
    "    }\n",
    "\n",
    "print(\"=== Podsumowanie Metod ===\")\n",
    "print(f\"Model Bazowy - Mean Squared Error: {mse_base:.4f}, R²: {r2_base:.4f}\\n\")\n",
    "for method, metrics in results.items():\n",
    "    print(f\"{method}:\")\n",
    "    print(f\"  Mean Squared Error (Testowy): {metrics['MSE']:.4f}\")\n",
    "    print(f\"  R² (Testowy): {metrics['R2']:.4f}\")\n",
    "    print(f\"  Najlepsze Hiperparametry: {metrics['Params']}\\n\")"
   ]
  }
 ],
 "metadata": {
  "kernelspec": {
   "display_name": "Python 3 (ipykernel)",
   "language": "python",
   "name": "python3"
  },
  "language_info": {
   "codemirror_mode": {
    "name": "ipython",
    "version": 3
   },
   "file_extension": ".py",
   "mimetype": "text/x-python",
   "name": "python",
   "nbconvert_exporter": "python",
   "pygments_lexer": "ipython3",
   "version": "3.9.12"
  }
 },
 "nbformat": 4,
 "nbformat_minor": 5
}
